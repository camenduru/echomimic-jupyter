{
 "cells": [
  {
   "cell_type": "markdown",
   "metadata": {
    "id": "view-in-github"
   },
   "source": [
    "[![Open In Colab](https://colab.research.google.com/assets/colab-badge.svg)](https://colab.research.google.com/github/camenduru/MeshAnythingV2-jupyter/blob/main/MeshAnythingV2_jupyter.ipynb)"
   ]
  },
  {
   "cell_type": "code",
   "execution_count": null,
   "metadata": {
    "id": "VjYy0F2gZIPR"
   },
   "outputs": [],
   "source": [
    "%cd /content\n",
    "!git clone https://github.com/antgroup/echomimic_v2\n",
    "%cd /content/echomimic_v2\n",
    "\n",
    "!apt install aria2 -qqy\n",
    "\n",
    "!aria2c --console-log-level=error -c -x 16 -s 16 -k 1M https://huggingface.co/BadToBest/EchoMimicV2/resolve/main/denoising_unet.pth -d /content/echomimic_v2/pretrained_weights -o denoising_unet.pth\n",
    "!aria2c --console-log-level=error -c -x 16 -s 16 -k 1M https://huggingface.co/BadToBest/EchoMimicV2/resolve/main/motion_module.pth -d /content/echomimic_v2/pretrained_weights -o motion_module.pth\n",
    "!aria2c --console-log-level=error -c -x 16 -s 16 -k 1M https://huggingface.co/BadToBest/EchoMimicV2/resolve/main/reference_unet.pth -d /content/echomimic_v2/pretrained_weights -o reference_unet.pth\n",
    "!aria2c --console-log-level=error -c -x 16 -s 16 -k 1M https://huggingface.co/BadToBest/EchoMimicV2/resolve/main/pose_encoder.pth -d /content/echomimic_v2/pretrained_weights -o pose_encoder.pth\n",
    "!aria2c --console-log-level=error -c -x 16 -s 16 -k 1M https://openaipublic.azureedge.net/main/whisper/models/65147644a518d12f04e32d6f3b26facc3f8dd46e5390956a9424a650c0ce22b9/tiny.pt -d /content/echomimic_v2/pretrained_weights/audio_processor -o whisper_tiny.pt\n",
    "!git clone https://huggingface.co/lambdalabs/sd-image-variations-diffusers /content/echomimic_v2/pretrained_weights/sd-image-variations-diffusers\n",
    "!git clone https://huggingface.co/stabilityai/sd-vae-ft-mse /content/echomimic_v2/pretrained_weights/sd-vae-ft-mse\n",
    "\n",
    "!pip install omegaconf diffusers==0.24.0 einops huggingface-hub==0.23.2 ffmpeg imageio-ffmpeg ffmpeg-python av decord transformers matplotlib opencv-python moviepy==1.0.3 accelerate\n",
    "\n",
    "# !wget https://www.johnvansickle.com/ffmpeg/old-releases/ffmpeg-4.4-amd64-static.tar.xz -O /content/ffmpeg-4.4-amd64-static.tar.xz\n",
    "# !mkdir -p /content/ffmpeg\n",
    "# !tar -xf /content/ffmpeg-4.4-amd64-static.tar.xz -C /content/ffmpeg --strip-components=1"
   ]
  },
  {
   "cell_type": "code",
   "execution_count": null,
   "metadata": {},
   "outputs": [],
   "source": [
    "# %env FFMPEG_PATH=/content/ffmpeg\n",
    "%cd /content/echomimic_v2\n",
    "!python infer.py --config='./configs/prompts/infer.yaml' #--audio_dir='' --audio_name='content/optimus.wav' --ref_images_dir='' --refimg_name='content/gandalf.png'"
   ]
  }
 ],
 "metadata": {
  "accelerator": "GPU",
  "colab": {
   "gpuType": "T4",
   "provenance": []
  },
  "kernelspec": {
   "display_name": "Python 3",
   "name": "python3"
  },
  "language_info": {
   "name": "python"
  }
 },
 "nbformat": 4,
 "nbformat_minor": 0
}
